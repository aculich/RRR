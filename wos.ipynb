{
 "cells": [
  {
   "cell_type": "code",
   "execution_count": 2,
   "metadata": {
    "collapsed": true
   },
   "outputs": [],
   "source": [
    "from suds.client import Client\n",
    "from suds.transport.http import HttpTransport\n",
    "import urllib2"
   ]
  },
  {
   "cell_type": "code",
   "execution_count": 3,
   "metadata": {
    "collapsed": false
   },
   "outputs": [],
   "source": [
    "class HTTPSudsPreprocessor(urllib2.BaseHandler):\n",
    "    def __init__(self, SID):\n",
    "        self.SID = SID\n",
    "\n",
    "    def http_request(self, req):\n",
    "        req.add_header('cookie', 'SID=\"'+self.SID+'\"')\n",
    "        return req\n",
    "\n",
    "    https_request = http_request"
   ]
  },
  {
   "cell_type": "code",
   "execution_count": 4,
   "metadata": {
    "collapsed": true
   },
   "outputs": [],
   "source": [
    "class WokmwsSoapClient():\n",
    "    \"\"\"\n",
    "    main steps you have to do:\n",
    "        soap = WokmwsSoapClient()\n",
    "        results = soap.search(...)\n",
    "    \"\"\"\n",
    "    def __init__(self):\n",
    "        self.url = self.client = {}\n",
    "        self.SID = ''\n",
    "\n",
    "        #self.url['auth'] = 'http://search.isiknowledge.com/esti/wokmws/ws/WOKMWSAuthenticate?wsdl'\n",
    "        self.url['auth'] = 'http://search.webofknowledge.com/esti/wokmws/ws/WOKMWSAuthenticate?wsdl'\n",
    "        #self.url['search'] = 'http://search.isiknowledge.com/esti/wokmws/ws/WokSearchLite?wsdl'\n",
    "        self.url['search'] = 'http://search.webofknowledge.com/esti/wokmws/ws/WokSearchLite?wsdl'\n",
    "\n",
    "        self.prepare()\n",
    "\n",
    "    def __del__(self):\n",
    "        self.close()\n",
    "\n",
    "    def prepare(self):\n",
    "        \"\"\"does all the initialization we need for a request\"\"\"\n",
    "        self.initAuthClient()\n",
    "        self.authenticate()\n",
    "        self.initSearchClient()\n",
    "\n",
    "    def initAuthClient(self):\n",
    "        self.client['auth'] = Client(self.url['auth'])\n",
    "\n",
    "    def initSearchClient(self):\n",
    "        http = HttpTransport()\n",
    "        opener = urllib2.build_opener(HTTPSudsPreprocessor(self.SID))\n",
    "        http.urlopener = opener\n",
    "        self.client['search'] = Client(self.url['search'], transport = http)\n",
    "\n",
    "    def authenticate(self):\n",
    "        self.SID = self.client['auth'].service.authenticate()\n",
    "\n",
    "    def close(self):\n",
    "        self.client['auth'].service.closeSession()\n",
    "\n",
    "    def search(self, query):\n",
    "        qparams = {\n",
    "            'databaseId' : 'WOS',\n",
    "            'userQuery' : query,\n",
    "            'queryLanguage' : 'en',\n",
    "            'editions' : [{\n",
    "                'collection' : 'WOS',\n",
    "                'edition' : 'SCI',\n",
    "            },{\n",
    "                'collection' : 'WOS',\n",
    "                'edition' : 'SSCI',\n",
    "            }]\n",
    "        }\n",
    "\n",
    "        rparams = {\n",
    "            'count' : 5, # 1-100\n",
    "            'firstRecord' : 1,\n",
    "            #'fields' : [{\n",
    "            #    'name' : 'Relevance',\n",
    "            #    'sort' : 'D',\n",
    "            #}],\n",
    "        }\n",
    "\n",
    "        return self.client['search'].service.search(qparams, rparams)"
   ]
  },
  {
   "cell_type": "code",
   "execution_count": 5,
   "metadata": {
    "collapsed": false
   },
   "outputs": [],
   "source": [
    "soap = WokmwsSoapClient()"
   ]
  },
  {
   "cell_type": "code",
   "execution_count": 6,
   "metadata": {
    "collapsed": false
   },
   "outputs": [],
   "source": [
    "results = soap.search('AU=Hallam')"
   ]
  },
  {
   "cell_type": "code",
   "execution_count": 42,
   "metadata": {
    "collapsed": false
   },
   "outputs": [
    {
     "data": {
      "text/plain": [
       "['__contains__',\n",
       " '__delattr__',\n",
       " '__doc__',\n",
       " '__getitem__',\n",
       " '__init__',\n",
       " '__iter__',\n",
       " '__keylist__',\n",
       " '__len__',\n",
       " '__metadata__',\n",
       " '__module__',\n",
       " '__printer__',\n",
       " '__repr__',\n",
       " '__setattr__',\n",
       " '__setitem__',\n",
       " '__str__',\n",
       " '__unicode__',\n",
       " 'queryId',\n",
       " 'records',\n",
       " 'recordsFound',\n",
       " 'recordsSearched']"
      ]
     },
     "execution_count": 42,
     "metadata": {},
     "output_type": "execute_result"
    }
   ],
   "source": [
    "dir(results)"
   ]
  },
  {
   "cell_type": "code",
   "execution_count": 9,
   "metadata": {
    "collapsed": false
   },
   "outputs": [
    {
     "data": {
      "text/plain": [
       "1961"
      ]
     },
     "execution_count": 9,
     "metadata": {},
     "output_type": "execute_result"
    }
   ],
   "source": [
    "print results.recordsFound"
   ]
  }
 ],
 "metadata": {
  "kernelspec": {
   "display_name": "Python 2",
   "language": "python",
   "name": "python2"
  },
  "language_info": {
   "codemirror_mode": {
    "name": "ipython",
    "version": 2
   },
   "file_extension": ".py",
   "mimetype": "text/x-python",
   "name": "python",
   "nbconvert_exporter": "python",
   "pygments_lexer": "ipython2",
   "version": "2.7.10"
  }
 },
 "nbformat": 4,
 "nbformat_minor": 0
}
