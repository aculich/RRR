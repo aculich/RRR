{
 "cells": [
  {
   "cell_type": "code",
   "execution_count": 1,
   "metadata": {
    "collapsed": true
   },
   "outputs": [],
   "source": [
    "from suds.client import Client\n",
    "from suds.transport.http import HttpTransport\n",
    "import urllib2\n",
    "from suds.sudsobject import asdict\n",
    "import json\n",
    "import time"
   ]
  },
  {
   "cell_type": "code",
   "execution_count": 2,
   "metadata": {
    "collapsed": false
   },
   "outputs": [],
   "source": [
    "class HTTPSudsPreprocessor(urllib2.BaseHandler):\n",
    "    def __init__(self, SID):\n",
    "        self.SID = SID\n",
    "\n",
    "    def http_request(self, req):\n",
    "        req.add_header('cookie', 'SID=\"'+self.SID+'\"')\n",
    "        return req\n",
    "\n",
    "    https_request = http_request"
   ]
  },
  {
   "cell_type": "code",
   "execution_count": 3,
   "metadata": {
    "collapsed": true
   },
   "outputs": [],
   "source": [
    "class WokmwsSoapClient():\n",
    "    \"\"\"\n",
    "    main steps you have to do:\n",
    "        soap = WokmwsSoapClient()\n",
    "        results = soap.search(...)\n",
    "    \"\"\"\n",
    "    def __init__(self):\n",
    "        self.url = self.client = {}\n",
    "        self.SID = ''\n",
    "\n",
    "        #self.url['auth'] = 'http://search.isiknowledge.com/esti/wokmws/ws/WOKMWSAuthenticate?wsdl'\n",
    "        self.url['auth'] = 'http://search.webofknowledge.com/esti/wokmws/ws/WOKMWSAuthenticate?wsdl'\n",
    "        #self.url['search'] = 'http://search.isiknowledge.com/esti/wokmws/ws/WokSearchLite?wsdl'\n",
    "        self.url['search'] = 'http://search.webofknowledge.com/esti/wokmws/ws/WokSearchLite?wsdl'\n",
    "\n",
    "        self.prepare()\n",
    "\n",
    "    def __del__(self):\n",
    "        self.close()\n",
    "\n",
    "    def prepare(self):\n",
    "        \"\"\"does all the initialization we need for a request\"\"\"\n",
    "        self.initAuthClient()\n",
    "        self.authenticate()\n",
    "        self.initSearchClient()\n",
    "\n",
    "    def initAuthClient(self):\n",
    "        self.client['auth'] = Client(self.url['auth'])\n",
    "\n",
    "    def initSearchClient(self):\n",
    "        http = HttpTransport()\n",
    "        opener = urllib2.build_opener(HTTPSudsPreprocessor(self.SID))\n",
    "        http.urlopener = opener\n",
    "        self.client['search'] = Client(self.url['search'], transport = http)\n",
    "\n",
    "    def authenticate(self):\n",
    "        self.SID = self.client['auth'].service.authenticate()\n",
    "\n",
    "    def close(self):\n",
    "        self.client['auth'].service.closeSession()\n",
    "\n",
    "    def search(self, query, count):\n",
    "        qparams = {\n",
    "            'databaseId' : 'WOS',\n",
    "            'userQuery' : query,\n",
    "            'queryLanguage' : 'en',\n",
    "            'editions' : [{\n",
    "                'collection' : 'WOS',\n",
    "                'edition' : 'SCI',\n",
    "            },{\n",
    "                'collection' : 'WOS',\n",
    "                'edition' : 'SSCI',\n",
    "            }],\n",
    "            'timeSpan' : {\n",
    "                'begin' : '2000-01-01',\n",
    "                'end'   : '2014-12-31'\n",
    "            }\n",
    "        }\n",
    "        rparams = {\n",
    "            'count' : count, # 1-100\n",
    "            'firstRecord' : 1,\n",
    "            #'fields' : [{\n",
    "            #    'name' : 'Relevance',\n",
    "            #    'sort' : 'D',\n",
    "            #}],\n",
    "        }\n",
    "        return self.client['search'].service.search(qparams, rparams)\n",
    "    \n",
    "    def retrieve(self, queryId, firstRecord, count):\n",
    "        rparams = {\n",
    "            'count' : count, # 1-100\n",
    "            'firstRecord' : firstRecord,\n",
    "        }\n",
    "        return self.client['search'].service.retrieve(queryId, rparams)"
   ]
  },
  {
   "cell_type": "code",
   "execution_count": 4,
   "metadata": {
    "collapsed": true
   },
   "outputs": [],
   "source": [
    "def recursive_asdict(d):\n",
    "    \"\"\"Convert Suds object into serializable format.\"\"\"\n",
    "    out = {}\n",
    "    for k, v in asdict(d).iteritems():\n",
    "        if hasattr(v, '__keylist__'):\n",
    "            out[k] = recursive_asdict(v)\n",
    "        elif isinstance(v, list):\n",
    "            out[k] = []\n",
    "            for item in v:\n",
    "                if hasattr(item, '__keylist__'):\n",
    "                    out[k].append(recursive_asdict(item))\n",
    "                else:\n",
    "                    out[k].append(item)\n",
    "        else:\n",
    "            out[k] = v\n",
    "    return out\n",
    "\n",
    "def suds_to_json(data):\n",
    "    return json.dumps(recursive_asdict(data))"
   ]
  },
  {
   "cell_type": "code",
   "execution_count": 5,
   "metadata": {
    "collapsed": true
   },
   "outputs": [],
   "source": [
    "def searchAndDumpResults(term, count = 100):\n",
    "    query = 'ts=' + term\n",
    "    results = soap.search(query, count = count)\n",
    "    queryId = results.queryId\n",
    "    numRecords = results.recordsFound\n",
    "    print 'search topic: ' + term\n",
    "    print `numRecords` + ' records found'\n",
    "    \n",
    "    filename = 'data/' + term + '.json'\n",
    "    with open(filename, 'w') as outf:\n",
    "        json.dump(recursive_asdict(results), outf)\n",
    "        \n",
    "    percent = -1\n",
    "    for i in xrange(1, numRecords/count+1):\n",
    "        newPercent = int(100*count*i/(numRecords*1.0))\n",
    "        if(newPercent != percent):\n",
    "            percent = newPercent\n",
    "            print `percent` + ' %'\n",
    "        \n",
    "        time.sleep(0.5)\n",
    "        results = soap.retrieve(queryId = queryId, firstRecord = count*i+1, count = count)\n",
    "        \n",
    "        with open(filename, 'a') as outf:\n",
    "            json.dump(recursive_asdict(results), outf)\n",
    "    "
   ]
  },
  {
   "cell_type": "code",
   "execution_count": 6,
   "metadata": {
    "collapsed": false
   },
   "outputs": [],
   "source": [
    "soap = WokmwsSoapClient()"
   ]
  },
  {
   "cell_type": "code",
   "execution_count": 7,
   "metadata": {
    "collapsed": true
   },
   "outputs": [],
   "source": [
    "RRRterms = ['reproducibility', 'replicability', 'repeatability']"
   ]
  },
  {
   "cell_type": "code",
   "execution_count": 8,
   "metadata": {
    "collapsed": false
   },
   "outputs": [
    {
     "name": "stdout",
     "output_type": "stream",
     "text": [
      "reproducibility\n",
      "2807 records found\n",
      "4.0 %\n",
      "7.0 %\n",
      "11.0 %\n",
      "14.0 %\n",
      "18.0 %\n",
      "21.0 %\n",
      "25.0 %\n",
      "29.0 %\n",
      "32.0 %\n",
      "36.0 %\n",
      "39.0 %\n",
      "43.0 %\n",
      "46.0 %\n",
      "50.0 %\n",
      "53.0 %\n",
      "57.0 %\n",
      "61.0 %\n",
      "64.0 %\n",
      "68.0 %\n",
      "71.0 %\n",
      "75.0 %\n",
      "78.0 %\n",
      "82.0 %\n",
      "86.0 %\n",
      "89.0 %\n",
      "93.0 %\n",
      "96.0 %\n",
      "100.0 %\n",
      "replicability\n",
      "32 records found\n",
      "repeatability\n",
      "901 records found\n",
      "11.0 %\n",
      "22.0 %\n",
      "33.0 %\n",
      "44.0 %\n",
      "55.0 %\n",
      "67.0 %\n",
      "78.0 %\n",
      "89.0 %\n",
      "100.0 %\n"
     ]
    }
   ],
   "source": [
    "for term in RRRterms:\n",
    "    searchAndDumpResults(term)"
   ]
  },
  {
   "cell_type": "code",
   "execution_count": 188,
   "metadata": {
    "collapsed": false
   },
   "outputs": [],
   "source": [
    "#results = soap.search('au=hallam', count = count)\n",
    "#results = soap.search('ts=reproducibility', count = count)\n",
    "\n",
    "#queryId = results.queryId\n",
    "#numRecords = results.recordsFound\n",
    "#print results.recordsFound\n",
    "\n",
    "#with open('out.json', 'w') as outf:\n",
    "#    json.dump(recursive_asdict(results), outf)\n",
    "\n",
    "#for i in xrange(1, numRecords/count+1):\n",
    "#    time.sleep(1)\n",
    "#    print `round(100*count*i/(numRecords*1.0))` + '%'\n",
    "#    results = soap.retrieve(queryId = queryId, firstRecord = count*i+1, count = count)\n",
    "#    with open('out.json', 'a') as outf:\n",
    "#        json.dump(recursive_asdict(results), outf)\n",
    "\n",
    "#print results.recordsFound\n",
    "#print queryId\n",
    "#print results\n",
    "#dir(results)\n",
    "#suds_to_json(results)"
   ]
  },
  {
   "cell_type": "code",
   "execution_count": 19,
   "metadata": {
    "collapsed": false
   },
   "outputs": [],
   "source": [
    "if(1 != 1):\n",
    "    print 1"
   ]
  },
  {
   "cell_type": "code",
   "execution_count": null,
   "metadata": {
    "collapsed": true
   },
   "outputs": [],
   "source": []
  }
 ],
 "metadata": {
  "kernelspec": {
   "display_name": "Python 2",
   "language": "python",
   "name": "python2"
  },
  "language_info": {
   "codemirror_mode": {
    "name": "ipython",
    "version": 2
   },
   "file_extension": ".py",
   "mimetype": "text/x-python",
   "name": "python",
   "nbconvert_exporter": "python",
   "pygments_lexer": "ipython2",
   "version": "2.7.10"
  }
 },
 "nbformat": 4,
 "nbformat_minor": 0
}
